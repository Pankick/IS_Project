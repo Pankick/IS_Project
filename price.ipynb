#!/usr/bin/env python3
# -*- coding: utf-8 -*-
"""
Created on Thu Apr 11 14:49:34 2019

@author: yanggao
"""
import numpy as np
import pandas as pd
import pandas_datareader.data as web
import datetime as dt

    
df1=pd.read_csv('/Users/yanggao/Desktop/IS archtecture/price/merged.csv')
df1=df1['Ticker']
df1=list(df1)
yahoo = Share(df1)
start = dt.datetime(2015, 1, 1)
end   = dt.datetime.today()

df = get_prices(df1, start, end)
f = web.DataReader(df1, 'yahoo', start, end)['Adj Close']
df=f
f = f.pct_change().dropna()

df.to_csv('/Users/yanggao/Desktop/IS archtecture/price/stock_price.csv')
