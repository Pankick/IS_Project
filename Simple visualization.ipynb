{
 "cells": [
  {
   "cell_type": "code",
   "execution_count": 1,
   "metadata": {
    "scrolled": false
   },
   "outputs": [
    {
     "data": {
      "text/html": [
       "<div>\n",
       "<style scoped>\n",
       "    .dataframe tbody tr th:only-of-type {\n",
       "        vertical-align: middle;\n",
       "    }\n",
       "\n",
       "    .dataframe tbody tr th {\n",
       "        vertical-align: top;\n",
       "    }\n",
       "\n",
       "    .dataframe thead th {\n",
       "        text-align: right;\n",
       "    }\n",
       "</style>\n",
       "<table border=\"1\" class=\"dataframe\">\n",
       "  <thead>\n",
       "    <tr style=\"text-align: right;\">\n",
       "      <th></th>\n",
       "      <th>Company Name</th>\n",
       "      <th>Symbol</th>\n",
       "      <th>Market</th>\n",
       "      <th>Price</th>\n",
       "      <th>Shares</th>\n",
       "      <th>Offer Amount</th>\n",
       "      <th>Date Priced</th>\n",
       "    </tr>\n",
       "  </thead>\n",
       "  <tbody>\n",
       "    <tr>\n",
       "      <th>0</th>\n",
       "      <td>AVINGER INC</td>\n",
       "      <td>AVGR</td>\n",
       "      <td>NASDAQ</td>\n",
       "      <td>13.0</td>\n",
       "      <td>5000000</td>\n",
       "      <td>65000000</td>\n",
       "      <td>01/30/15</td>\n",
       "    </tr>\n",
       "    <tr>\n",
       "      <th>1</th>\n",
       "      <td>INFRAREIT, INC.</td>\n",
       "      <td>HIFR</td>\n",
       "      <td>New York Stock Exchange</td>\n",
       "      <td>23.0</td>\n",
       "      <td>20000000</td>\n",
       "      <td>460000000</td>\n",
       "      <td>01/30/15</td>\n",
       "    </tr>\n",
       "    <tr>\n",
       "      <th>2</th>\n",
       "      <td>SPARK THERAPEUTICS, INC.</td>\n",
       "      <td>ONCE</td>\n",
       "      <td>NASDAQ</td>\n",
       "      <td>23.0</td>\n",
       "      <td>7000000</td>\n",
       "      <td>161000000</td>\n",
       "      <td>01/30/15</td>\n",
       "    </tr>\n",
       "    <tr>\n",
       "      <th>3</th>\n",
       "      <td>SHAKE SHACK INC.</td>\n",
       "      <td>SHAK</td>\n",
       "      <td>New York Stock Exchange</td>\n",
       "      <td>21.0</td>\n",
       "      <td>5000000</td>\n",
       "      <td>105000000</td>\n",
       "      <td>01/30/15</td>\n",
       "    </tr>\n",
       "    <tr>\n",
       "      <th>4</th>\n",
       "      <td>TRACON PHARMACEUTICALS, INC.</td>\n",
       "      <td>TCON</td>\n",
       "      <td>NASDAQ</td>\n",
       "      <td>10.0</td>\n",
       "      <td>3600000</td>\n",
       "      <td>36000000</td>\n",
       "      <td>01/30/15</td>\n",
       "    </tr>\n",
       "  </tbody>\n",
       "</table>\n",
       "</div>"
      ],
      "text/plain": [
       "                   Company Name Symbol                   Market  Price  \\\n",
       "0                   AVINGER INC   AVGR                   NASDAQ   13.0   \n",
       "1               INFRAREIT, INC.   HIFR  New York Stock Exchange   23.0   \n",
       "2      SPARK THERAPEUTICS, INC.   ONCE                   NASDAQ   23.0   \n",
       "3              SHAKE SHACK INC.   SHAK  New York Stock Exchange   21.0   \n",
       "4  TRACON PHARMACEUTICALS, INC.   TCON                   NASDAQ   10.0   \n",
       "\n",
       "     Shares  Offer Amount Date Priced  \n",
       "0   5000000      65000000    01/30/15  \n",
       "1  20000000     460000000    01/30/15  \n",
       "2   7000000     161000000    01/30/15  \n",
       "3   5000000     105000000    01/30/15  \n",
       "4   3600000      36000000    01/30/15  "
      ]
     },
     "execution_count": 1,
     "metadata": {},
     "output_type": "execute_result"
    }
   ],
   "source": [
    "import pandas as pd\n",
    "import numpy as np\n",
    "import plotly.plotly as py\n",
    "import plotly.graph_objs as go\n",
    "\n",
    "ipo = pd.read_csv(\"https://raw.githubusercontent.com/Pankick/IS_Project/master/ipo.csv\")\n",
    "\n",
    "ipo.head()"
   ]
  },
  {
   "cell_type": "code",
   "execution_count": 29,
   "metadata": {},
   "outputs": [
    {
     "name": "stderr",
     "output_type": "stream",
     "text": [
      "c:\\users\\patri\\appdata\\local\\programs\\python\\python37\\lib\\site-packages\\IPython\\core\\display.py:689: UserWarning:\n",
      "\n",
      "Consider using IPython.display.IFrame instead\n",
      "\n"
     ]
    },
    {
     "data": {
      "text/html": [
       "<iframe id=\"igraph\" scrolling=\"no\" style=\"border:none;\" seamless=\"seamless\" src=\"https://plot.ly/~Pankick/16.embed\" height=\"525px\" width=\"100%\"></iframe>"
      ],
      "text/plain": [
       "<plotly.tools.PlotlyDisplay object>"
      ]
     },
     "execution_count": 29,
     "metadata": {},
     "output_type": "execute_result"
    }
   ],
   "source": [
    "ipo_sorted_date = ipo.sort_values(by=['Date Priced'])\n",
    "data0 = [go.Bar(x=ipo_sorted_date.Symbol,\n",
    "            y=ipo_sorted_date['Offer Amount'])]  \n",
    "py.iplot(data0, filename='IPO_Amount_chart')"
   ]
  },
  {
   "cell_type": "code",
   "execution_count": 19,
   "metadata": {
    "scrolled": false
   },
   "outputs": [
    {
     "data": {
      "text/html": [
       "<iframe id=\"igraph\" scrolling=\"no\" style=\"border:none;\" seamless=\"seamless\" src=\"https://plot.ly/~Pankick/18.embed\" height=\"525px\" width=\"100%\"></iframe>"
      ],
      "text/plain": [
       "<plotly.tools.PlotlyDisplay object>"
      ]
     },
     "execution_count": 19,
     "metadata": {},
     "output_type": "execute_result"
    }
   ],
   "source": [
    "data1 = [go.Bar(x=ipo_sorted_date.Symbol,\n",
    "            y=ipo_sorted_date.Price)]\n",
    "py.iplot(data1, filename='IPO_Price_chart')"
   ]
  },
  {
   "cell_type": "code",
   "execution_count": 3,
   "metadata": {
    "scrolled": true
   },
   "outputs": [
    {
     "data": {
      "text/plain": [
       "['Company Name',\n",
       " 'Symbol',\n",
       " 'Market',\n",
       " 'Price',\n",
       " 'Shares',\n",
       " 'Offer Amount',\n",
       " 'Date Priced']"
      ]
     },
     "execution_count": 3,
     "metadata": {},
     "output_type": "execute_result"
    }
   ],
   "source": [
    "list(ipo)"
   ]
  },
  {
   "cell_type": "code",
   "execution_count": 9,
   "metadata": {},
   "outputs": [],
   "source": [
    "ipo0=ipo_sorted_date[ipo_sorted_date['Market']=='NASDAQ']\n",
    "ipo1=ipo_sorted_date[ipo_sorted_date['Market']=='New York Stock Exchange']\n",
    "ipo2=ipo_sorted_date[(ipo_sorted_date['Market']!='New York Stock Exchange') & (ipo_sorted_date['Market']!='NASDAQ')]"
   ]
  },
  {
   "cell_type": "code",
   "execution_count": 15,
   "metadata": {
    "scrolled": false
   },
   "outputs": [
    {
     "data": {
      "text/html": [
       "<iframe id=\"igraph\" scrolling=\"no\" style=\"border:none;\" seamless=\"seamless\" src=\"https://plot.ly/~Pankick/12.embed\" height=\"525px\" width=\"100%\"></iframe>"
      ],
      "text/plain": [
       "<plotly.tools.PlotlyDisplay object>"
      ]
     },
     "execution_count": 15,
     "metadata": {},
     "output_type": "execute_result"
    }
   ],
   "source": [
    "trace0 = go.Scatter(\n",
    "    x = ipo0['Date Priced'],\n",
    "    y = ipo0['Price'],\n",
    "    name='NASDAQ',\n",
    "    mode='markers',\n",
    "    text=ipo0['Company Name'],\n",
    "    marker=dict(\n",
    "        size=ipo0['Offer Amount']/20000000,\n",
    "        color=1\n",
    "        \n",
    "    )\n",
    ")\n",
    "\n",
    "trace1 = go.Scatter(\n",
    "    x = ipo1['Date Priced'],\n",
    "    y = ipo1['Price'],\n",
    "    name='NYSE',\n",
    "    mode='markers',\n",
    "    text=ipo1['Company Name'],\n",
    "    marker=dict(\n",
    "        size=ipo1['Offer Amount']/20000000,\n",
    "        color=2\n",
    "        \n",
    "    )\n",
    ")\n",
    "\n",
    "trace2 = go.Scatter(\n",
    "    x = ipo2['Date Priced'],\n",
    "    y = ipo2['Price'],\n",
    "    name='Other',\n",
    "    mode='markers',\n",
    "    text=ipo2['Company Name'],\n",
    "    marker=dict(\n",
    "        size=ipo1['Offer Amount']/20000000,\n",
    "        color=3\n",
    "        \n",
    "    )\n",
    ")\n",
    "\n",
    "layout= go.Layout(\n",
    "    title= 'IPO Information',\n",
    "    hovermode= 'closest',\n",
    "    xaxis= dict(\n",
    "        title= 'Date',\n",
    "        \n",
    "    ),\n",
    "    yaxis=dict(\n",
    "        title= 'IPO Price',\n",
    "        ticklen= 5,\n",
    "       \n",
    "    ),\n",
    "    showlegend= True\n",
    ")\n",
    "data2 = [trace0, trace1, trace2]\n",
    "fig = dict(data=data2, layout=layout)\n",
    "py.iplot(fig, filename='IPO_Scatter')"
   ]
  },
  {
   "cell_type": "code",
   "execution_count": null,
   "metadata": {},
   "outputs": [],
   "source": []
  }
 ],
 "metadata": {
  "kernelspec": {
   "display_name": "Python 3",
   "language": "python",
   "name": "python3"
  },
  "language_info": {
   "codemirror_mode": {
    "name": "ipython",
    "version": 3
   },
   "file_extension": ".py",
   "mimetype": "text/x-python",
   "name": "python",
   "nbconvert_exporter": "python",
   "pygments_lexer": "ipython3",
   "version": "3.7.0"
  }
 },
 "nbformat": 4,
 "nbformat_minor": 2
}
